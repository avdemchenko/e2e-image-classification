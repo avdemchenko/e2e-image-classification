{
 "cells": [
  {
   "cell_type": "code",
   "execution_count": null,
   "metadata": {
    "id": "45FLqz4-WHjW"
   },
   "outputs": [],
   "source": [
    "import os\n",
    "import tarfile\n",
    "import pickle\n",
    "import requests\n",
    "import numpy as np\n",
    "from PIL import Image\n",
    "\n",
    "import torch\n",
    "import torch.nn as nn\n",
    "import torch.optim as optim\n",
    "from torch.utils.data import Dataset, DataLoader\n",
    "import torchvision.transforms as transforms\n",
    "from pathlib import Path\n",
    "from torch.optim.lr_scheduler import ReduceLROnPlateau\n",
    "import matplotlib.pyplot as plt"
   ]
  },
  {
   "cell_type": "code",
   "execution_count": null,
   "metadata": {
    "colab": {
     "base_uri": "https://localhost:8080/"
    },
    "id": "gANYqaxlWITE",
    "outputId": "6e72c50d-b759-4eef-a810-e4883696e157"
   },
   "outputs": [
    {
     "name": "stdout",
     "output_type": "stream",
     "text": [
      "Folder structure 'my_cifar_data' already exists. Skipping creation.\n"
     ]
    }
   ],
   "source": [
    "# ==============================================================================\n",
    "# STEP 1 & 2: DATA PREPARATION (download, unpack, save to folders)\n",
    "# ==============================================================================\n",
    "def download_and_unpack_cifar10():\n",
    "    url = \"https://www.cs.toronto.edu/~kriz/cifar-10-python.tar.gz\"\n",
    "    filename = url.split(\"/\")[-1]\n",
    "    if not os.path.exists(filename):\n",
    "        print(f\"Downloading dataset from {url}...\")\n",
    "        r = requests.get(url, stream=True)\n",
    "        r.raise_for_status()\n",
    "        with open(filename, 'wb') as f:\n",
    "            for chunk in r.iter_content(chunk_size=8192): f.write(chunk)\n",
    "        print(\"Download complete.\")\n",
    "    if not os.path.exists(\"cifar-10-batches-py\"):\n",
    "        print(f\"Extracting archive {filename}...\")\n",
    "        with tarfile.open(filename, \"r:gz\") as tar: tar.extractall()\n",
    "        print(\"Extraction complete.\")\n",
    "download_and_unpack_cifar10()\n",
    "\n",
    "def unpickle(file):\n",
    "    with open(file, 'rb') as fo:\n",
    "        dict = pickle.load(fo, encoding='bytes')\n",
    "    return dict\n",
    "\n",
    "def create_image_file_structure():\n",
    "    base_output_dir = Path('./my_cifar_data')\n",
    "    if base_output_dir.exists():\n",
    "        print(f\"Folder structure '{base_output_dir}' already exists. Skipping creation.\")\n",
    "        return\n",
    "    print(\"\\nCreating user-friendly folder structure and saving images...\")\n",
    "    class_names = ('plane', 'car', 'bird', 'cat', 'deer', 'dog', 'frog', 'horse', 'ship', 'truck')\n",
    "    for split in ['train', 'test']:\n",
    "        for i, name in enumerate(class_names):\n",
    "            (base_output_dir / split / f\"{i}_{name}\").mkdir(parents=True, exist_ok=True)\n",
    "    train_image_idx = 0\n",
    "    for i in range(1, 6):\n",
    "        data_dict = unpickle(f'cifar-10-batches-py/data_batch_{i}')\n",
    "        for j, (image_data, label) in enumerate(zip(data_dict[b'data'], data_dict[b'labels'])):\n",
    "            img_pil = Image.fromarray(image_data.reshape(3, 32, 32).transpose(1, 2, 0))\n",
    "            output_dir = base_output_dir / 'train' / f\"{label}_{class_names[label]}\"\n",
    "            img_pil.save(output_dir / f\"{train_image_idx}.png\")\n",
    "            train_image_idx += 1\n",
    "    print(f\"Saved {train_image_idx} training images.\")\n",
    "    test_image_idx = 0\n",
    "    data_dict = unpickle('cifar-10-batches-py/test_batch')\n",
    "    for j, (image_data, label) in enumerate(zip(data_dict[b'data'], data_dict[b'labels'])):\n",
    "        img_pil = Image.fromarray(image_data.reshape(3, 32, 32).transpose(1, 2, 0))\n",
    "        output_dir = base_output_dir / 'test' / f\"{label}_{class_names[label]}\"\n",
    "        img_pil.save(output_dir / f\"{test_image_idx}.png\")\n",
    "        test_image_idx += 1\n",
    "    print(f\"Saved {test_image_idx} test images.\")\n",
    "create_image_file_structure()"
   ]
  },
  {
   "cell_type": "code",
   "execution_count": null,
   "metadata": {
    "id": "F_U0b14EWRbA"
   },
   "outputs": [],
   "source": [
    "# ==============================================================================\n",
    "# STEP 3: CUSTOM DATASET CLASS (no changes)\n",
    "# ==============================================================================\n",
    "class CustomImageDataset(Dataset):\n",
    "    def __init__(self, root_dir, transform=None):\n",
    "        self.root_dir = Path(root_dir)\n",
    "        self.transform = transform\n",
    "        self.samples = []\n",
    "        for class_dir in sorted(self.root_dir.iterdir()):\n",
    "            if class_dir.is_dir():\n",
    "                label = int(class_dir.name.split('_')[0])\n",
    "                for img_path in class_dir.iterdir():\n",
    "                    self.samples.append((img_path, label))\n",
    "    def __len__(self): return len(self.samples)\n",
    "    def __getitem__(self, idx):\n",
    "        img_path, label = self.samples[idx]\n",
    "        image = Image.open(img_path).convert(\"RGB\")\n",
    "        if self.transform: image = self.transform(image)\n",
    "        return image, label"
   ]
  },
  {
   "cell_type": "code",
   "execution_count": null,
   "metadata": {
    "colab": {
     "base_uri": "https://localhost:8080/"
    },
    "id": "M0GH25CCWUSJ",
    "outputId": "e210288f-a045-4c7c-f713-d73f8a2a6d9a"
   },
   "outputs": [
    {
     "name": "stdout",
     "output_type": "stream",
     "text": [
      "Train/Validation split created and DataLoaders are ready.\n"
     ]
    }
   ],
   "source": [
    "# ==============================================================================\n",
    "# STEP 4: SETUP FOR TRAINING (with train/val split)\n",
    "# ==============================================================================\n",
    "transform_train = transforms.Compose([\n",
    "    transforms.RandomCrop(32, padding=4),\n",
    "    transforms.RandomHorizontalFlip(),\n",
    "    transforms.ToTensor(),\n",
    "    transforms.Normalize((0.5, 0.5, 0.5), (0.5, 0.5, 0.5))\n",
    "])\n",
    "transform_test = transforms.Compose([\n",
    "    transforms.ToTensor(),\n",
    "    transforms.Normalize((0.5, 0.5, 0.5), (0.5, 0.5, 0.5))\n",
    "])\n",
    "\n",
    "full_train_dataset = CustomImageDataset(root_dir='./my_cifar_data/train', transform=transform_train)\n",
    "train_size = int(0.8 * len(full_train_dataset))\n",
    "val_size = len(full_train_dataset) - train_size\n",
    "train_subset, val_subset = torch.utils.data.random_split(full_train_dataset, [train_size, val_size])\n",
    "\n",
    "trainloader = DataLoader(train_subset, batch_size=64, shuffle=True, num_workers=2)\n",
    "valloader = DataLoader(val_subset, batch_size=64, shuffle=False, num_workers=2)\n",
    "\n",
    "test_dataset = CustomImageDataset(root_dir='./my_cifar_data/test', transform=transform_test)\n",
    "testloader = DataLoader(test_dataset, batch_size=64, shuffle=False, num_workers=2)\n",
    "\n",
    "print(\"Train/Validation split created and DataLoaders are ready.\")"
   ]
  },
  {
   "cell_type": "code",
   "execution_count": null,
   "metadata": {
    "id": "DppEqUdZWX6t"
   },
   "outputs": [],
   "source": [
    "# ==============================================================================\n",
    "# STEP 5: MODEL DEFINITION AND SETUP (no changes)\n",
    "# ==============================================================================\n",
    "class Net(nn.Module):\n",
    "    def __init__(self):\n",
    "        super(Net, self).__init__()\n",
    "        self.conv1 = nn.Conv2d(3, 32, kernel_size=3, padding=1)\n",
    "        self.conv2 = nn.Conv2d(32, 64, kernel_size=3, padding=1)\n",
    "        self.conv3 = nn.Conv2d(64, 128, kernel_size=3, padding=1)\n",
    "        self.pool = nn.MaxPool2d(2, 2)\n",
    "        self.dropout1 = nn.Dropout(0.25)\n",
    "        self.dropout2 = nn.Dropout(0.5)\n",
    "        self.fc1 = nn.Linear(128 * 4 * 4, 512)\n",
    "        self.fc2 = nn.Linear(512, 10)\n",
    "    def forward(self, x):\n",
    "        x = torch.relu(self.conv1(x)); x = self.pool(x)\n",
    "        x = torch.relu(self.conv2(x)); x = self.pool(x)\n",
    "        x = torch.relu(self.conv3(x)); x = self.pool(x)\n",
    "        x = x.view(-1, 128 * 4 * 4); x = self.dropout1(x)\n",
    "        x = torch.relu(self.fc1(x)); x = self.dropout2(x)\n",
    "        x = self.fc2(x)\n",
    "        return x\n",
    "\n",
    "device = torch.device(\"cuda:0\" if torch.cuda.is_available() else \"cpu\")\n",
    "net = Net().to(device)\n",
    "criterion = nn.CrossEntropyLoss()\n",
    "optimizer = optim.Adam(net.parameters(), lr=0.001)\n",
    "scheduler = ReduceLROnPlateau(optimizer, mode='min', factor=0.1, patience=2)"
   ]
  },
  {
   "cell_type": "code",
   "execution_count": null,
   "metadata": {
    "colab": {
     "background_save": true,
     "base_uri": "https://localhost:8080/"
    },
    "id": "lfYDW_0bWbzt",
    "outputId": "f8250968-348f-46b5-cdb2-15b95d97e7eb"
   },
   "outputs": [
    {
     "name": "stdout",
     "output_type": "stream",
     "text": [
      "\n",
      "Starting model training...\n",
      "Epoch [1/20], Train Loss: 1.6826, Val Loss: 1.4411, Current LR: 0.001000\n",
      "Epoch [2/20], Train Loss: 1.3615, Val Loss: 1.2687, Current LR: 0.001000\n",
      "Epoch [3/20], Train Loss: 1.1970, Val Loss: 1.0931, Current LR: 0.001000\n",
      "Epoch [4/20], Train Loss: 1.0883, Val Loss: 0.9783, Current LR: 0.001000\n",
      "Epoch [5/20], Train Loss: 1.0104, Val Loss: 0.9380, Current LR: 0.001000\n",
      "Epoch [6/20], Train Loss: 0.9596, Val Loss: 0.8977, Current LR: 0.001000\n",
      "Epoch [7/20], Train Loss: 0.9184, Val Loss: 0.8258, Current LR: 0.001000\n",
      "Epoch [8/20], Train Loss: 0.8792, Val Loss: 0.8013, Current LR: 0.001000\n",
      "Epoch [9/20], Train Loss: 0.8462, Val Loss: 0.8089, Current LR: 0.001000\n",
      "Epoch [10/20], Train Loss: 0.8276, Val Loss: 0.7626, Current LR: 0.001000\n",
      "Epoch [11/20], Train Loss: 0.8075, Val Loss: 0.7535, Current LR: 0.001000\n",
      "Epoch [12/20], Train Loss: 0.7958, Val Loss: 0.7758, Current LR: 0.001000\n",
      "Epoch [13/20], Train Loss: 0.7705, Val Loss: 0.7203, Current LR: 0.001000\n",
      "Epoch [14/20], Train Loss: 0.7643, Val Loss: 0.6914, Current LR: 0.001000\n",
      "Epoch [15/20], Train Loss: 0.7466, Val Loss: 0.6934, Current LR: 0.001000\n",
      "Epoch [16/20], Train Loss: 0.7298, Val Loss: 0.6847, Current LR: 0.001000\n",
      "Epoch [17/20], Train Loss: 0.7157, Val Loss: 0.6845, Current LR: 0.001000\n",
      "Epoch [18/20], Train Loss: 0.7196, Val Loss: 0.6644, Current LR: 0.001000\n",
      "Epoch [19/20], Train Loss: 0.7014, Val Loss: 0.6695, Current LR: 0.001000\n",
      "Epoch [20/20], Train Loss: 0.6925, Val Loss: 0.6590, Current LR: 0.001000\n",
      "Training finished!\n"
     ]
    }
   ],
   "source": [
    "# ==============================================================================\n",
    "# STEP 6: TRAINING LOOP WITH LOSS HISTORY TRACKING\n",
    "# ==============================================================================\n",
    "print(\"\\nStarting model training...\")\n",
    "num_epochs = 20\n",
    "\n",
    "# NEW: Lists to store loss history for plotting\n",
    "train_loss_history = []\n",
    "val_loss_history = []\n",
    "\n",
    "for epoch in range(num_epochs):\n",
    "    net.train()\n",
    "    running_loss = 0.0\n",
    "    for data in trainloader:\n",
    "        inputs, labels = data[0].to(device), data[1].to(device)\n",
    "        optimizer.zero_grad()\n",
    "        outputs = net(inputs)\n",
    "        loss = criterion(outputs, labels)\n",
    "        loss.backward()\n",
    "        optimizer.step()\n",
    "        running_loss += loss.item()\n",
    "\n",
    "    avg_train_loss = running_loss / len(trainloader)\n",
    "    train_loss_history.append(avg_train_loss) # NEW: Save training loss\n",
    "\n",
    "    net.eval()\n",
    "    running_val_loss = 0.0\n",
    "    with torch.no_grad():\n",
    "        for data in valloader:\n",
    "            inputs, labels = data[0].to(device), data[1].to(device)\n",
    "            outputs = net(inputs)\n",
    "            loss = criterion(outputs, labels)\n",
    "            running_val_loss += loss.item()\n",
    "\n",
    "    avg_val_loss = running_val_loss / len(valloader)\n",
    "    val_loss_history.append(avg_val_loss) # NEW: Save validation loss\n",
    "\n",
    "    scheduler.step(avg_val_loss)\n",
    "    current_lr = optimizer.param_groups[0]['lr']\n",
    "\n",
    "    print(f\"Epoch [{epoch + 1}/{num_epochs}], \"\n",
    "          f\"Train Loss: {avg_train_loss:.4f}, \"\n",
    "          f\"Val Loss: {avg_val_loss:.4f}, \"\n",
    "          f\"Current LR: {current_lr:.6f}\")\n",
    "\n",
    "print('Training finished!')"
   ]
  },
  {
   "cell_type": "code",
   "execution_count": null,
   "metadata": {
    "colab": {
     "background_save": true
    },
    "id": "0SVAgyTUWex-",
    "outputId": "c52ea3a9-5517-4563-b1da-74d650e6a9dc"
   },
   "outputs": [
    {
     "name": "stdout",
     "output_type": "stream",
     "text": [
      "\n",
      "Plotting training and validation loss...\n"
     ]
    },
    {
     "data": {
      "image/png": "[encoded data removed]",
      "text/plain": [
       "<Figure size 1000x500 with 1 Axes>"
      ]
     },
     "metadata": {},
     "output_type": "display_data"
    }
   ],
   "source": [
    "# ==============================================================================\n",
    "# STEP 7: PLOTTING THE LOSS HISTORY\n",
    "# ==============================================================================\n",
    "print(\"\\nPlotting training and validation loss...\")\n",
    "\n",
    "plt.figure(figsize=(10, 5))\n",
    "plt.plot(train_loss_history, label='Training Loss')\n",
    "plt.plot(val_loss_history, label='Validation Loss')\n",
    "plt.title('Training & Validation Loss per Epoch')\n",
    "plt.xlabel('Epochs')\n",
    "plt.ylabel('Loss')\n",
    "plt.legend()\n",
    "plt.grid(True)\n",
    "plt.show()"
   ]
  },
  {
   "cell_type": "code",
   "execution_count": null,
   "metadata": {
    "colab": {
     "background_save": true
    },
    "id": "lECg-_mhWi4w",
    "outputId": "98248f2a-7acf-4942-93b7-e52ad9ad597c"
   },
   "outputs": [
    {
     "name": "stdout",
     "output_type": "stream",
     "text": [
      "\n",
      "Starting final model testing...\n",
      "\n",
      "Final accuracy of the network on the 10000 test images: 78.22 %\n"
     ]
    }
   ],
   "source": [
    "# ==============================================================================\n",
    "# STEP 8: FINAL MODEL TESTING\n",
    "# ==============================================================================\n",
    "print(\"\\nStarting final model testing...\")\n",
    "net.eval()\n",
    "correct = 0\n",
    "total = 0\n",
    "with torch.no_grad():\n",
    "    for data in testloader:\n",
    "        images, labels = data[0].to(device), data[1].to(device)\n",
    "        outputs = net(images)\n",
    "        _, predicted = torch.max(outputs.data, 1)\n",
    "        total += labels.size(0)\n",
    "        correct += (predicted == labels).sum().item()\n",
    "\n",
    "accuracy = 100 * correct / total\n",
    "print(f'\\nFinal accuracy of the network on the 10000 test images: {accuracy:.2f} %')"
   ]
  }
 ],
 "metadata": {
  "colab": {
   "provenance": []
  },
  "kernelspec": {
   "display_name": "Python 3",
   "name": "python3"
  },
  "language_info": {
   "name": "python"
  }
 },
 "nbformat": 4,
 "nbformat_minor": 0
}
