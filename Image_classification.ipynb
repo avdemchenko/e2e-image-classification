{
  "nbformat": 4,
  "nbformat_minor": 0,
  "metadata": {
    "colab": {
      "provenance": [],
      "gpuType": "T4"
    },
    "kernelspec": {
      "name": "python3",
      "display_name": "Python 3"
    },
    "language_info": {
      "name": "python"
    },
    "accelerator": "GPU"
  },
  "cells": [
    {
      "cell_type": "code",
      "execution_count": null,
      "metadata": {
        "id": "V7vBeNlzysTB"
      },
      "outputs": [],
      "source": [
        "import torch\n",
        "import torch.nn as nn\n",
        "import torch.optim as optim\n",
        "import torchvision\n",
        "import torchvision.transforms as transforms\n",
        "import matplotlib.pyplot as plt\n",
        "import numpy as np"
      ]
    },
    {
      "cell_type": "code",
      "source": [
        "device = torch.device(\"cuda:0\" if torch.cuda.is_available() else \"cpu\")\n",
        "print(f\"Device: {device}\")"
      ],
      "metadata": {
        "colab": {
          "base_uri": "https://localhost:8080/"
        },
        "id": "Dq8ghS7cyt9N",
        "outputId": "b1511e24-1461-4628-8e07-f49c754f2259"
      },
      "execution_count": null,
      "outputs": [
        {
          "output_type": "stream",
          "name": "stdout",
          "text": [
            "Используемое устройство: cuda:0\n"
          ]
        }
      ]
    },
    {
      "cell_type": "code",
      "source": [
        "transform = transforms.Compose(\n",
        "    [transforms.ToTensor(),\n",
        "     transforms.Normalize((0.5, 0.5, 0.5), (0.5, 0.5, 0.5))])"
      ],
      "metadata": {
        "id": "kYmN3szQy--S"
      },
      "execution_count": null,
      "outputs": []
    },
    {
      "cell_type": "code",
      "source": [
        "trainset = torchvision.datasets.CIFAR10(root='./data', train=True,\n",
        "                                        download=True, transform=transform)\n",
        "trainloader = torch.utils.data.DataLoader(trainset, batch_size=4,\n",
        "                                          shuffle=True, num_workers=2)"
      ],
      "metadata": {
        "colab": {
          "base_uri": "https://localhost:8080/"
        },
        "id": "VY1hUfLX1jKF",
        "outputId": "7a531d6f-992d-411d-93a8-098e83f83249"
      },
      "execution_count": null,
      "outputs": [
        {
          "output_type": "stream",
          "name": "stderr",
          "text": [
            "100%|██████████| 170M/170M [00:03<00:00, 48.7MB/s]\n"
          ]
        }
      ]
    },
    {
      "cell_type": "code",
      "source": [
        "testset = torchvision.datasets.CIFAR10(root='./data', train=False,\n",
        "                                       download=True, transform=transform)\n",
        "testloader = torch.utils.data.DataLoader(testset, batch_size=4,\n",
        "                                         shuffle=False, num_workers=2)"
      ],
      "metadata": {
        "id": "AKPuOQkk1qkm"
      },
      "execution_count": null,
      "outputs": []
    },
    {
      "cell_type": "code",
      "source": [
        "classes = ('plane', 'car', 'bird', 'cat',\n",
        "           'deer', 'dog', 'frog', 'horse', 'ship', 'truck')"
      ],
      "metadata": {
        "id": "sWBL48fG2Bbk"
      },
      "execution_count": null,
      "outputs": []
    },
    {
      "cell_type": "code",
      "source": [
        "def imshow(img):\n",
        "    img = img / 2 + 0.5\n",
        "    npimg = img.numpy()\n",
        "    plt.imshow(np.transpose(npimg, (1, 2, 0)))\n",
        "    plt.show()"
      ],
      "metadata": {
        "id": "VBhlxJYq0i41"
      },
      "execution_count": null,
      "outputs": []
    },
    {
      "cell_type": "code",
      "source": [
        "dataiter = iter(trainloader)\n",
        "images, labels = next(dataiter)"
      ],
      "metadata": {
        "id": "rfik-P-S3aev"
      },
      "execution_count": null,
      "outputs": []
    },
    {
      "cell_type": "code",
      "source": [
        "imshow(torchvision.utils.make_grid(images))\n",
        "print(' '.join(f'{classes[labels[j]]:5s}' for j in range(4)))"
      ],
      "metadata": {
        "colab": {
          "base_uri": "https://localhost:8080/",
          "height": 211
        },
        "id": "6p93kypA3eNY",
        "outputId": "16c0bf70-cfd5-44ea-e160-52e2f6cf7d48"
      },
      "execution_count": null,
      "outputs": [
        {
          "output_type": "display_data",
          "data": {
            "text/plain": [
              "<Figure size 640x480 with 1 Axes>"
            ],
            "image/png": "[encoded data removed]"
          },
          "metadata": {}
        },
        {
          "output_type": "stream",
          "name": "stdout",
          "text": [
            "cat   frog  deer  cat  \n"
          ]
        }
      ]
    },
    {
      "cell_type": "code",
      "source": [
        "class Net(nn.Module):\n",
        "    def __init__(self):\n",
        "        super(Net, self).__init__()\n",
        "        self.conv1 = nn.Conv2d(3, 6, 5)\n",
        "        self.pool = nn.MaxPool2d(2, 2)\n",
        "        self.conv2 = nn.Conv2d(6, 16, 5)\n",
        "        self.fc1 = nn.Linear(16 * 5 * 5, 120)\n",
        "        self.fc2 = nn.Linear(120, 84)\n",
        "        self.fc3 = nn.Linear(84, 10)\n",
        "\n",
        "    def forward(self, x):\n",
        "        x = self.pool(torch.relu(self.conv1(x)))\n",
        "        x = self.pool(torch.relu(self.conv2(x)))\n",
        "        x = x.view(-1, 16 * 5 * 5)\n",
        "        x = torch.relu(self.fc1(x))\n",
        "        x = torch.relu(self.fc2(x))\n",
        "        x = self.fc3(x)\n",
        "        return x"
      ],
      "metadata": {
        "id": "LB6cC3eP3jHv"
      },
      "execution_count": null,
      "outputs": []
    },
    {
      "cell_type": "code",
      "source": [
        "net = Net()\n",
        "net.to(device)"
      ],
      "metadata": {
        "colab": {
          "base_uri": "https://localhost:8080/"
        },
        "id": "jMiy6MVM45rb",
        "outputId": "87b98951-dbaa-43e9-bf15-06d517faa9f4"
      },
      "execution_count": null,
      "outputs": [
        {
          "output_type": "execute_result",
          "data": {
            "text/plain": [
              "Net(\n",
              "  (conv1): Conv2d(3, 6, kernel_size=(5, 5), stride=(1, 1))\n",
              "  (pool): MaxPool2d(kernel_size=2, stride=2, padding=0, dilation=1, ceil_mode=False)\n",
              "  (conv2): Conv2d(6, 16, kernel_size=(5, 5), stride=(1, 1))\n",
              "  (fc1): Linear(in_features=400, out_features=120, bias=True)\n",
              "  (fc2): Linear(in_features=120, out_features=84, bias=True)\n",
              "  (fc3): Linear(in_features=84, out_features=10, bias=True)\n",
              ")"
            ]
          },
          "metadata": {},
          "execution_count": 11
        }
      ]
    },
    {
      "cell_type": "code",
      "source": [
        "criterion = nn.CrossEntropyLoss()\n",
        "optimizer = optim.SGD(net.parameters(), lr=0.001, momentum=0.9)"
      ],
      "metadata": {
        "id": "UCqY1Fq148Ga"
      },
      "execution_count": null,
      "outputs": []
    },
    {
      "cell_type": "code",
      "source": [
        "print(\"\\nStart learning...\")\n",
        "\n",
        "for epoch in range(2):\n",
        "    running_loss = 0.0\n",
        "    for i, data in enumerate(trainloader, 0):\n",
        "        inputs, labels = data[0].to(device), data[1].to(device)\n",
        "        optimizer.zero_grad()\n",
        "        outputs = net(inputs)\n",
        "        loss = criterion(outputs, labels)\n",
        "        loss.backward()\n",
        "        optimizer.step()\n",
        "        running_loss += loss.item()\n",
        "        if i % 2000 == 1999:\n",
        "            print(f'[{epoch + 1}, {i + 1:5d}] loss: {running_loss / 2000:.3f}')\n",
        "            running_loss = 0.0\n",
        "\n",
        "print('Learning has been finished!')"
      ],
      "metadata": {
        "colab": {
          "base_uri": "https://localhost:8080/"
        },
        "id": "4u6iFRgu5AS5",
        "outputId": "9ad845e6-a0e7-40e8-c6f8-5c0d62876b1a"
      },
      "execution_count": null,
      "outputs": [
        {
          "output_type": "stream",
          "name": "stdout",
          "text": [
            "\n",
            "Start learning...\n",
            "[1,  2000] loss: 2.202\n",
            "[1,  4000] loss: 1.901\n",
            "[1,  6000] loss: 1.705\n",
            "[1,  8000] loss: 1.607\n",
            "[1, 10000] loss: 1.527\n",
            "[1, 12000] loss: 1.488\n",
            "[2,  2000] loss: 1.430\n",
            "[2,  4000] loss: 1.393\n",
            "[2,  6000] loss: 1.367\n",
            "[2,  8000] loss: 1.320\n",
            "[2, 10000] loss: 1.299\n",
            "[2, 12000] loss: 1.293\n",
            "Learning has been finished!\n"
          ]
        }
      ]
    },
    {
      "cell_type": "code",
      "source": [
        "correct = 0\n",
        "total = 0\n",
        "with torch.no_grad():\n",
        "    for data in testloader:\n",
        "        images, labels = data[0].to(device), data[1].to(device)\n",
        "        outputs = net(images)\n",
        "        _, predicted = torch.max(outputs.data, 1)\n",
        "        total += labels.size(0)\n",
        "        correct += (predicted == labels).sum().item()\n",
        "\n",
        "print(f'\\nPrecision with 10000 test pictures is: {100 * correct / total:.2f} %')"
      ],
      "metadata": {
        "colab": {
          "base_uri": "https://localhost:8080/"
        },
        "id": "g6sPe7st5PgN",
        "outputId": "6f143a51-8438-4425-df85-e1526204bb5a"
      },
      "execution_count": null,
      "outputs": [
        {
          "output_type": "stream",
          "name": "stdout",
          "text": [
            "\n",
            "Precision with 10000 test pictures is: 56.17 %\n"
          ]
        }
      ]
    },
    {
      "cell_type": "code",
      "source": [
        "# Increasing amount of epohs"
      ],
      "metadata": {
        "id": "AyL3RChk6hjF"
      },
      "execution_count": null,
      "outputs": []
    },
    {
      "cell_type": "code",
      "source": [
        "print(\"\\nStart learning...\")\n",
        "\n",
        "for epoch in range(15):\n",
        "    running_loss = 0.0\n",
        "    for i, data in enumerate(trainloader, 0):\n",
        "        inputs, labels = data[0].to(device), data[1].to(device)\n",
        "        optimizer.zero_grad()\n",
        "        outputs = net(inputs)\n",
        "        loss = criterion(outputs, labels)\n",
        "        loss.backward()\n",
        "        optimizer.step()\n",
        "        running_loss += loss.item()\n",
        "        if i % 2000 == 1999:\n",
        "            print(f'[{epoch + 1}, {i + 1:5d}] loss: {running_loss / 2000:.3f}')\n",
        "            running_loss = 0.0\n",
        "\n",
        "print('Learning has been finished!')"
      ],
      "metadata": {
        "colab": {
          "base_uri": "https://localhost:8080/"
        },
        "id": "7zcyQF01Kmah",
        "outputId": "cea83d0b-8902-4fab-e4a6-afaea233dfa3"
      },
      "execution_count": null,
      "outputs": [
        {
          "output_type": "stream",
          "name": "stdout",
          "text": [
            "\n",
            "Start learning...\n",
            "[1,  2000] loss: 1.221\n",
            "[1,  4000] loss: 1.234\n",
            "[1,  6000] loss: 1.194\n",
            "[1,  8000] loss: 1.188\n",
            "[1, 10000] loss: 1.197\n",
            "[1, 12000] loss: 1.170\n",
            "[2,  2000] loss: 1.099\n",
            "[2,  4000] loss: 1.104\n",
            "[2,  6000] loss: 1.085\n",
            "[2,  8000] loss: 1.122\n",
            "[2, 10000] loss: 1.101\n",
            "[2, 12000] loss: 1.095\n",
            "[3,  2000] loss: 1.013\n",
            "[3,  4000] loss: 1.014\n",
            "[3,  6000] loss: 1.035\n",
            "[3,  8000] loss: 1.050\n",
            "[3, 10000] loss: 1.015\n",
            "[3, 12000] loss: 1.030\n",
            "[4,  2000] loss: 0.932\n",
            "[4,  4000] loss: 0.944\n",
            "[4,  6000] loss: 0.947\n",
            "[4,  8000] loss: 0.984\n",
            "[4, 10000] loss: 0.990\n",
            "[4, 12000] loss: 0.988\n",
            "[5,  2000] loss: 0.864\n",
            "[5,  4000] loss: 0.905\n",
            "[5,  6000] loss: 0.928\n",
            "[5,  8000] loss: 0.927\n",
            "[5, 10000] loss: 0.937\n",
            "[5, 12000] loss: 0.949\n",
            "[6,  2000] loss: 0.835\n",
            "[6,  4000] loss: 0.878\n",
            "[6,  6000] loss: 0.878\n",
            "[6,  8000] loss: 0.890\n",
            "[6, 10000] loss: 0.894\n",
            "[6, 12000] loss: 0.913\n",
            "[7,  2000] loss: 0.816\n",
            "[7,  4000] loss: 0.811\n",
            "[7,  6000] loss: 0.838\n",
            "[7,  8000] loss: 0.850\n",
            "[7, 10000] loss: 0.867\n",
            "[7, 12000] loss: 0.903\n",
            "[8,  2000] loss: 0.766\n",
            "[8,  4000] loss: 0.787\n",
            "[8,  6000] loss: 0.820\n",
            "[8,  8000] loss: 0.867\n",
            "[8, 10000] loss: 0.840\n",
            "[8, 12000] loss: 0.821\n",
            "[9,  2000] loss: 0.776\n",
            "[9,  4000] loss: 0.773\n",
            "[9,  6000] loss: 0.789\n",
            "[9,  8000] loss: 0.808\n",
            "[9, 10000] loss: 0.787\n",
            "[9, 12000] loss: 0.815\n",
            "[10,  2000] loss: 0.721\n",
            "[10,  4000] loss: 0.737\n",
            "[10,  6000] loss: 0.767\n",
            "[10,  8000] loss: 0.772\n",
            "[10, 10000] loss: 0.772\n",
            "[10, 12000] loss: 0.808\n",
            "[11,  2000] loss: 0.693\n",
            "[11,  4000] loss: 0.727\n",
            "[11,  6000] loss: 0.738\n",
            "[11,  8000] loss: 0.765\n",
            "[11, 10000] loss: 0.778\n",
            "[11, 12000] loss: 0.801\n",
            "[12,  2000] loss: 0.652\n",
            "[12,  4000] loss: 0.712\n",
            "[12,  6000] loss: 0.718\n",
            "[12,  8000] loss: 0.760\n",
            "[12, 10000] loss: 0.755\n",
            "[12, 12000] loss: 0.757\n",
            "[13,  2000] loss: 0.638\n",
            "[13,  4000] loss: 0.683\n",
            "[13,  6000] loss: 0.727\n",
            "[13,  8000] loss: 0.705\n",
            "[13, 10000] loss: 0.741\n",
            "[13, 12000] loss: 0.765\n",
            "[14,  2000] loss: 0.634\n",
            "[14,  4000] loss: 0.664\n",
            "[14,  6000] loss: 0.672\n",
            "[14,  8000] loss: 0.721\n",
            "[14, 10000] loss: 0.735\n",
            "[14, 12000] loss: 0.728\n",
            "[15,  2000] loss: 0.624\n",
            "[15,  4000] loss: 0.664\n",
            "[15,  6000] loss: 0.664\n",
            "[15,  8000] loss: 0.701\n",
            "[15, 10000] loss: 0.707\n",
            "[15, 12000] loss: 0.739\n",
            "Learning has been finished!\n"
          ]
        }
      ]
    },
    {
      "cell_type": "code",
      "source": [
        "correct = 0\n",
        "total = 0\n",
        "with torch.no_grad():\n",
        "    for data in testloader:\n",
        "        images, labels = data[0].to(device), data[1].to(device)\n",
        "        outputs = net(images)\n",
        "        _, predicted = torch.max(outputs.data, 1)\n",
        "        total += labels.size(0)\n",
        "        correct += (predicted == labels).sum().item()\n",
        "\n",
        "print(f'\\nPrecision with 10000 test pictures is: {100 * correct / total:.2f} %')"
      ],
      "metadata": {
        "colab": {
          "base_uri": "https://localhost:8080/"
        },
        "id": "dbT3ySG2KpEZ",
        "outputId": "791f3069-0729-4cfe-9d6b-f934696cb4c1"
      },
      "execution_count": null,
      "outputs": [
        {
          "output_type": "stream",
          "name": "stdout",
          "text": [
            "\n",
            "Precision with 10000 test pictures is: 61.86 %\n"
          ]
        }
      ]
    },
    {
      "cell_type": "code",
      "source": [
        "# Improving model"
      ],
      "metadata": {
        "id": "YFjqbloiNshM"
      },
      "execution_count": null,
      "outputs": []
    },
    {
      "cell_type": "code",
      "source": [
        "transform_train = transforms.Compose([\n",
        "    transforms.RandomCrop(32, padding=4),\n",
        "    transforms.RandomHorizontalFlip(),\n",
        "    transforms.ToTensor(),\n",
        "    transforms.Normalize((0.5, 0.5, 0.5), (0.5, 0.5, 0.5))\n",
        "])"
      ],
      "metadata": {
        "id": "uNU56EmAOmo2"
      },
      "execution_count": null,
      "outputs": []
    },
    {
      "cell_type": "code",
      "source": [
        "transform_test = transforms.Compose([\n",
        "    transforms.ToTensor(),\n",
        "    transforms.Normalize((0.5, 0.5, 0.5), (0.5, 0.5, 0.5))\n",
        "])"
      ],
      "metadata": {
        "id": "jDPWWFefOn0G"
      },
      "execution_count": null,
      "outputs": []
    },
    {
      "cell_type": "code",
      "source": [
        "trainset = torchvision.datasets.CIFAR10(root='./data', train=True,\n",
        "                                        download=True, transform=transform_train)\n",
        "trainloader = torch.utils.data.DataLoader(trainset, batch_size=64,\n",
        "                                          shuffle=True, num_workers=2)"
      ],
      "metadata": {
        "id": "cHotkMLxOpiP"
      },
      "execution_count": null,
      "outputs": []
    },
    {
      "cell_type": "code",
      "source": [
        "testset = torchvision.datasets.CIFAR10(root='./data', train=False,\n",
        "                                       download=True, transform=transform_test)\n",
        "testloader = torch.utils.data.DataLoader(testset, batch_size=64,\n",
        "                                         shuffle=False, num_workers=2)"
      ],
      "metadata": {
        "id": "gtCe1zueOr_A"
      },
      "execution_count": null,
      "outputs": []
    },
    {
      "cell_type": "code",
      "source": [
        "classes = ('plane', 'car', 'bird', 'cat',\n",
        "           'deer', 'dog', 'frog', 'horse', 'ship', 'truck')"
      ],
      "metadata": {
        "id": "VMlL512qOulF"
      },
      "execution_count": null,
      "outputs": []
    },
    {
      "cell_type": "code",
      "source": [
        "class Net(nn.Module):\n",
        "    def __init__(self):\n",
        "        super(Net, self).__init__()\n",
        "        self.conv1 = nn.Conv2d(3, 32, kernel_size=3, padding=1)\n",
        "        self.conv2 = nn.Conv2d(32, 64, kernel_size=3, padding=1)\n",
        "        self.conv3 = nn.Conv2d(64, 128, kernel_size=3, padding=1)\n",
        "        self.pool = nn.MaxPool2d(2, 2)\n",
        "        self.dropout1 = nn.Dropout(0.25)\n",
        "        self.dropout2 = nn.Dropout(0.5)\n",
        "        self.fc1 = nn.Linear(128 * 4 * 4, 512)\n",
        "        self.fc2 = nn.Linear(512, 10)\n",
        "\n",
        "    def forward(self, x):\n",
        "        x = torch.relu(self.conv1(x))\n",
        "        x = self.pool(x)\n",
        "        x = torch.relu(self.conv2(x))\n",
        "        x = self.pool(x)\n",
        "        x = torch.relu(self.conv3(x))\n",
        "        x = self.pool(x)\n",
        "        x = x.view(-1, 128 * 4 * 4)\n",
        "        x = self.dropout1(x)\n",
        "        x = torch.relu(self.fc1(x))\n",
        "        x = self.dropout2(x)\n",
        "        x = self.fc2(x)\n",
        "        return x"
      ],
      "metadata": {
        "id": "-2sb3BRdOwYi"
      },
      "execution_count": null,
      "outputs": []
    },
    {
      "cell_type": "code",
      "source": [
        "device = torch.device(\"cuda:0\" if torch.cuda.is_available() else \"cpu\")\n",
        "net = Net()\n",
        "net.to(device)"
      ],
      "metadata": {
        "colab": {
          "base_uri": "https://localhost:8080/"
        },
        "id": "kaNuRcHlOy0f",
        "outputId": "2a392ef3-8211-408f-eb01-c4d04f12995b"
      },
      "execution_count": null,
      "outputs": [
        {
          "output_type": "execute_result",
          "data": {
            "text/plain": [
              "Net(\n",
              "  (conv1): Conv2d(3, 32, kernel_size=(3, 3), stride=(1, 1), padding=(1, 1))\n",
              "  (conv2): Conv2d(32, 64, kernel_size=(3, 3), stride=(1, 1), padding=(1, 1))\n",
              "  (conv3): Conv2d(64, 128, kernel_size=(3, 3), stride=(1, 1), padding=(1, 1))\n",
              "  (pool): MaxPool2d(kernel_size=2, stride=2, padding=0, dilation=1, ceil_mode=False)\n",
              "  (dropout1): Dropout(p=0.25, inplace=False)\n",
              "  (dropout2): Dropout(p=0.5, inplace=False)\n",
              "  (fc1): Linear(in_features=2048, out_features=512, bias=True)\n",
              "  (fc2): Linear(in_features=512, out_features=10, bias=True)\n",
              ")"
            ]
          },
          "metadata": {},
          "execution_count": 25
        }
      ]
    },
    {
      "cell_type": "code",
      "source": [
        "criterion = nn.CrossEntropyLoss()\n",
        "optimizer = optim.Adam(net.parameters(), lr=0.001)"
      ],
      "metadata": {
        "id": "H7BzEdAiO1yQ"
      },
      "execution_count": null,
      "outputs": []
    },
    {
      "cell_type": "code",
      "source": [
        "print(\"\\nStart learning...\")\n",
        "\n",
        "for epoch in range(15):\n",
        "    running_loss = 0.0\n",
        "    for i, data in enumerate(trainloader, 0):\n",
        "        inputs, labels = data[0].to(device), data[1].to(device)\n",
        "        optimizer.zero_grad()\n",
        "        outputs = net(inputs)\n",
        "        loss = criterion(outputs, labels)\n",
        "        loss.backward()\n",
        "        optimizer.step()\n",
        "        running_loss += loss.item()\n",
        "        if i % 2000 == 1999:\n",
        "            print(f'[{epoch + 1}, {i + 1:5d}] loss: {running_loss / 2000:.3f}')\n",
        "            running_loss = 0.0\n",
        "\n",
        "print('Learning has been finished!')"
      ],
      "metadata": {
        "colab": {
          "base_uri": "https://localhost:8080/"
        },
        "id": "2ywjY7iYO5RC",
        "outputId": "9337aad4-b03f-47e1-c31a-d5477c423303"
      },
      "execution_count": null,
      "outputs": [
        {
          "output_type": "stream",
          "name": "stdout",
          "text": [
            "\n",
            "Start learning...\n",
            "Learning has been finished!\n"
          ]
        }
      ]
    },
    {
      "cell_type": "code",
      "source": [
        "correct = 0\n",
        "total = 0\n",
        "with torch.no_grad():\n",
        "    for data in testloader:\n",
        "        images, labels = data[0].to(device), data[1].to(device)\n",
        "        outputs = net(images)\n",
        "        _, predicted = torch.max(outputs.data, 1)\n",
        "        total += labels.size(0)\n",
        "        correct += (predicted == labels).sum().item()\n",
        "\n",
        "print(f'\\nPrecision with 10000 test pictures is: {100 * correct / total:.2f} %')"
      ],
      "metadata": {
        "colab": {
          "base_uri": "https://localhost:8080/"
        },
        "id": "YMPrRtYBPAar",
        "outputId": "acf38551-7618-4c05-9a4d-7b8f11b602d4"
      },
      "execution_count": null,
      "outputs": [
        {
          "output_type": "stream",
          "name": "stdout",
          "text": [
            "\n",
            "Precision with 10000 test pictures is: 76.17 %\n"
          ]
        }
      ]
    },
    {
      "cell_type": "code",
      "source": [
        "# Adding Learning Rate Scheduling"
      ],
      "metadata": {
        "id": "2oGn59QyQXT_"
      },
      "execution_count": null,
      "outputs": []
    },
    {
      "cell_type": "code",
      "source": [
        "from torch.optim.lr_scheduler import ReduceLROnPlateau"
      ],
      "metadata": {
        "id": "Uxbp-zRXFGp0"
      },
      "execution_count": null,
      "outputs": []
    },
    {
      "cell_type": "code",
      "source": [
        "transform_train = transforms.Compose([\n",
        "    transforms.RandomCrop(32, padding=4),\n",
        "    transforms.RandomHorizontalFlip(),\n",
        "    transforms.ToTensor(),\n",
        "    transforms.Normalize((0.5, 0.5, 0.5), (0.5, 0.5, 0.5))\n",
        "])"
      ],
      "metadata": {
        "id": "fYHVACS2FM42"
      },
      "execution_count": null,
      "outputs": []
    },
    {
      "cell_type": "code",
      "source": [
        "transform_test = transforms.Compose([\n",
        "    transforms.ToTensor(),\n",
        "    transforms.Normalize((0.5, 0.5, 0.5), (0.5, 0.5, 0.5))\n",
        "])"
      ],
      "metadata": {
        "id": "jQGMJCBeFOaI"
      },
      "execution_count": null,
      "outputs": []
    },
    {
      "cell_type": "code",
      "source": [
        "full_trainset = torchvision.datasets.CIFAR10(root='./data', train=True,\n",
        "                                             download=True, transform=transform_train)"
      ],
      "metadata": {
        "id": "cdAkVJNuFQDS"
      },
      "execution_count": null,
      "outputs": []
    },
    {
      "cell_type": "code",
      "source": [
        "train_size = int(0.8 * len(full_trainset))\n",
        "val_size = len(full_trainset) - train_size\n",
        "train_subset, val_subset = torch.utils.data.random_split(full_trainset, [train_size, val_size])"
      ],
      "metadata": {
        "id": "KxgiJr56FXLD"
      },
      "execution_count": null,
      "outputs": []
    },
    {
      "cell_type": "code",
      "source": [
        "print(f\"Train size: {len(train_subset)}\")\n",
        "print(f\"Validation size: {len(val_subset)}\")"
      ],
      "metadata": {
        "colab": {
          "base_uri": "https://localhost:8080/"
        },
        "id": "y_kW3n7-FcO2",
        "outputId": "58c0d11c-3bbf-4c3d-f824-e0fd4d150d33"
      },
      "execution_count": null,
      "outputs": [
        {
          "output_type": "stream",
          "name": "stdout",
          "text": [
            "Train size: 40000\n",
            "Validation size: 10000\n"
          ]
        }
      ]
    },
    {
      "cell_type": "code",
      "source": [
        "trainloader = torch.utils.data.DataLoader(train_subset, batch_size=64,\n",
        "                                          shuffle=True, num_workers=2)\n",
        "valloader = torch.utils.data.DataLoader(val_subset, batch_size=64,\n",
        "                                        shuffle=False, num_workers=2)\n",
        "testset = torchvision.datasets.CIFAR10(root='./data', train=False,\n",
        "                                       download=True, transform=transform_test)\n",
        "testloader = torch.utils.data.DataLoader(testset, batch_size=64,\n",
        "                                         shuffle=False, num_workers=2)"
      ],
      "metadata": {
        "id": "AVTGfWtKFiMc"
      },
      "execution_count": null,
      "outputs": []
    },
    {
      "cell_type": "code",
      "source": [
        "device = torch.device(\"cuda:0\" if torch.cuda.is_available() else \"cpu\")\n",
        "net = Net()\n",
        "net.to(device)"
      ],
      "metadata": {
        "colab": {
          "base_uri": "https://localhost:8080/"
        },
        "id": "jl_IUAHQFnSQ",
        "outputId": "7823e62b-17b0-45fa-bb33-afb32bd0d72f"
      },
      "execution_count": null,
      "outputs": [
        {
          "output_type": "execute_result",
          "data": {
            "text/plain": [
              "Net(\n",
              "  (conv1): Conv2d(3, 32, kernel_size=(3, 3), stride=(1, 1), padding=(1, 1))\n",
              "  (conv2): Conv2d(32, 64, kernel_size=(3, 3), stride=(1, 1), padding=(1, 1))\n",
              "  (conv3): Conv2d(64, 128, kernel_size=(3, 3), stride=(1, 1), padding=(1, 1))\n",
              "  (pool): MaxPool2d(kernel_size=2, stride=2, padding=0, dilation=1, ceil_mode=False)\n",
              "  (dropout1): Dropout(p=0.25, inplace=False)\n",
              "  (dropout2): Dropout(p=0.5, inplace=False)\n",
              "  (fc1): Linear(in_features=2048, out_features=512, bias=True)\n",
              "  (fc2): Linear(in_features=512, out_features=10, bias=True)\n",
              ")"
            ]
          },
          "metadata": {},
          "execution_count": 37
        }
      ]
    },
    {
      "cell_type": "code",
      "source": [
        "criterion = nn.CrossEntropyLoss()\n",
        "optimizer = optim.Adam(net.parameters(), lr=0.001)"
      ],
      "metadata": {
        "id": "y-9ZSNGKFrYL"
      },
      "execution_count": null,
      "outputs": []
    },
    {
      "cell_type": "code",
      "source": [
        "scheduler = ReduceLROnPlateau(optimizer, mode='min', factor=0.1, patience=2)"
      ],
      "metadata": {
        "id": "Fz6lJSylFtGD"
      },
      "execution_count": null,
      "outputs": []
    },
    {
      "cell_type": "code",
      "source": [
        "print(\"\\nStart learning\")\n",
        "num_epochs = 20\n",
        "for epoch in range(num_epochs):\n",
        "\n",
        "    net.train()\n",
        "    running_loss = 0.0\n",
        "    for i, data in enumerate(trainloader, 0):\n",
        "        inputs, labels = data[0].to(device), data[1].to(device)\n",
        "        optimizer.zero_grad()\n",
        "        outputs = net(inputs)\n",
        "        loss = criterion(outputs, labels)\n",
        "        loss.backward()\n",
        "        optimizer.step()\n",
        "        running_loss += loss.item()\n",
        "    avg_train_loss = running_loss / len(trainloader)\n",
        "\n",
        "    net.eval()\n",
        "    running_val_loss = 0.0\n",
        "    with torch.no_grad():\n",
        "        for data in valloader:\n",
        "            inputs, labels = data[0].to(device), data[1].to(device)\n",
        "            outputs = net(inputs)\n",
        "            loss = criterion(outputs, labels)\n",
        "            running_val_loss += loss.item()\n",
        "    avg_val_loss = running_val_loss / len(valloader)\n",
        "\n",
        "    scheduler.step(avg_val_loss)\n",
        "\n",
        "    current_lr = optimizer.param_groups[0]['lr']\n",
        "\n",
        "    print(f\"Эпоха [{epoch + 1}/{num_epochs}], \"\n",
        "          f\"Train Loss: {avg_train_loss:.4f}, \"\n",
        "          f\"Validation Loss: {avg_val_loss:.4f}, \"\n",
        "          f\"Current LR: {current_lr:.6f}\")\n",
        "\n",
        "\n",
        "print('Learning has been finished!')"
      ],
      "metadata": {
        "colab": {
          "base_uri": "https://localhost:8080/"
        },
        "id": "wYbyD3-pFu8e",
        "outputId": "3c1456fb-a7e8-4d18-c39e-ea0076e2438f"
      },
      "execution_count": null,
      "outputs": [
        {
          "output_type": "stream",
          "name": "stdout",
          "text": [
            "\n",
            "Start learning\n",
            "Эпоха [1/20], Train Loss: 1.6798, Validation Loss: 1.4089, Current LR: 0.001000\n",
            "Эпоха [2/20], Train Loss: 1.3514, Validation Loss: 1.2034, Current LR: 0.001000\n",
            "Эпоха [3/20], Train Loss: 1.1940, Validation Loss: 1.1151, Current LR: 0.001000\n",
            "Эпоха [4/20], Train Loss: 1.0894, Validation Loss: 0.9424, Current LR: 0.001000\n",
            "Эпоха [5/20], Train Loss: 1.0094, Validation Loss: 0.9270, Current LR: 0.001000\n",
            "Эпоха [6/20], Train Loss: 0.9577, Validation Loss: 0.8638, Current LR: 0.001000\n",
            "Эпоха [7/20], Train Loss: 0.9174, Validation Loss: 0.8549, Current LR: 0.001000\n",
            "Эпоха [8/20], Train Loss: 0.8795, Validation Loss: 0.8064, Current LR: 0.001000\n",
            "Эпоха [9/20], Train Loss: 0.8562, Validation Loss: 0.8262, Current LR: 0.001000\n",
            "Эпоха [10/20], Train Loss: 0.8239, Validation Loss: 0.7684, Current LR: 0.001000\n",
            "Эпоха [11/20], Train Loss: 0.8035, Validation Loss: 0.7403, Current LR: 0.001000\n",
            "Эпоха [12/20], Train Loss: 0.7877, Validation Loss: 0.7445, Current LR: 0.001000\n",
            "Эпоха [13/20], Train Loss: 0.7808, Validation Loss: 0.7128, Current LR: 0.001000\n",
            "Эпоха [14/20], Train Loss: 0.7569, Validation Loss: 0.7468, Current LR: 0.001000\n",
            "Эпоха [15/20], Train Loss: 0.7445, Validation Loss: 0.6891, Current LR: 0.001000\n",
            "Эпоха [16/20], Train Loss: 0.7358, Validation Loss: 0.6794, Current LR: 0.001000\n",
            "Эпоха [17/20], Train Loss: 0.7240, Validation Loss: 0.6917, Current LR: 0.001000\n",
            "Эпоха [18/20], Train Loss: 0.7093, Validation Loss: 0.6738, Current LR: 0.001000\n",
            "Эпоха [19/20], Train Loss: 0.6934, Validation Loss: 0.6698, Current LR: 0.001000\n",
            "Эпоха [20/20], Train Loss: 0.6956, Validation Loss: 0.6702, Current LR: 0.001000\n",
            "Learning has been finished!\n"
          ]
        }
      ]
    },
    {
      "cell_type": "code",
      "source": [
        "correct = 0\n",
        "total = 0\n",
        "with torch.no_grad():\n",
        "    for data in testloader:\n",
        "        images, labels = data[0].to(device), data[1].to(device)\n",
        "        outputs = net(images)\n",
        "        _, predicted = torch.max(outputs.data, 1)\n",
        "        total += labels.size(0)\n",
        "        correct += (predicted == labels).sum().item()\n",
        "\n",
        "print(f'\\nPrecision with 10000 test pictures is: {100 * correct / total:.2f} %')"
      ],
      "metadata": {
        "colab": {
          "base_uri": "https://localhost:8080/"
        },
        "id": "6g6IgzGQGSVN",
        "outputId": "e1c1d007-83aa-4830-bb88-459f0155884c"
      },
      "execution_count": null,
      "outputs": [
        {
          "output_type": "stream",
          "name": "stdout",
          "text": [
            "\n",
            "Precision with 10000 test pictures is: 78.57 %\n"
          ]
        }
      ]
    },
    {
      "cell_type": "code",
      "source": [],
      "metadata": {
        "id": "-dQ9rv0dIKCP"
      },
      "execution_count": null,
      "outputs": []
    }
  ]
}